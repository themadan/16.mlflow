{
  "nbformat": 4,
  "nbformat_minor": 0,
  "metadata": {
    "colab": {
      "name": "Untitled0.ipynb",
      "provenance": [],
      "collapsed_sections": []
    },
    "kernelspec": {
      "name": "python3",
      "display_name": "Python 3"
    }
  },
  "cells": [
    {
      "cell_type": "markdown",
      "metadata": {
        "id": "C2k42xaM1zUI",
        "colab_type": "text"
      },
      "source": [
        "# References\n",
        "\n",
        "* [mlflow official document](https://mlflow.org/docs/latest/index.html)\n",
        "* [Youtube videos](https://www.youtube.com/watch?v=OWJHHAtnAwY)\n"
      ]
    },
    {
      "cell_type": "markdown",
      "metadata": {
        "id": "micjJy5Il2m-",
        "colab_type": "text"
      },
      "source": [
        "# Installing MLflow "
      ]
    },
    {
      "cell_type": "markdown",
      "metadata": {
        "id": "_N38XWihlXLx",
        "colab_type": "text"
      },
      "source": [
        "# **Mlflow**"
      ]
    },
    {
      "cell_type": "code",
      "metadata": {
        "id": "MRcNjbjhlVDK",
        "colab_type": "code",
        "colab": {
          "base_uri": "https://localhost:8080/",
          "height": 250
        },
        "outputId": "5fbdbfb9-2c22-421e-9e3f-59c4236958ae"
      },
      "source": [
        "pip3 install mlflow"
      ],
      "execution_count": 1,
      "outputs": [
        {
          "output_type": "error",
          "ename": "SyntaxError",
          "evalue": "ignored",
          "traceback": [
            "\u001b[0;36m  File \u001b[0;32m\"<ipython-input-1-5eb5078ed1dc>\"\u001b[0;36m, line \u001b[0;32m1\u001b[0m\n\u001b[0;31m    pip3 install mlflow\u001b[0m\n\u001b[0m               ^\u001b[0m\n\u001b[0;31mSyntaxError\u001b[0m\u001b[0;31m:\u001b[0m invalid syntax\n"
          ]
        }
      ]
    },
    {
      "cell_type": "markdown",
      "metadata": {
        "id": "EHHp0wsRmQMR",
        "colab_type": "text"
      },
      "source": [
        "## What is mlflow?\n",
        "\n",
        "* An open source platform for the machine learning lifecycle\n",
        "\n",
        "1. MLflow Tracking\n",
        "\n",
        "Record and query experiments: code, data, config, and results\n",
        "\n",
        "2. MLflow Projects\n",
        "\n",
        "Package data science code in a format to reproduce runs on any platform\n",
        "\n",
        "3. MLflow Models\n",
        "\n",
        "Deploy machine learning models in diverse serving environments\n",
        "\n",
        "4. Model Registry\n",
        "\n",
        "Store, annotate, discover, and manage models in a central repository "
      ]
    },
    {
      "cell_type": "markdown",
      "metadata": {
        "id": "ftd_J09nnrpf",
        "colab_type": "text"
      },
      "source": [
        "## MLflow Tracking"
      ]
    },
    {
      "cell_type": "markdown",
      "metadata": {
        "id": "SZ3CRyr4uUly",
        "colab_type": "text"
      },
      "source": [
        "## My way\n",
        "* Model training gardai jada and hyperparameter(learning rate,alpha..) change  gardai jada accuracy matrics(rms,mae,r2score,) log ma rakhdai herni k change vairako x vanyara.\n",
        "\n",
        "* Comparing model."
      ]
    },
    {
      "cell_type": "markdown",
      "metadata": {
        "id": "sEL_5UKonz3B",
        "colab_type": "text"
      },
      "source": [
        "* The MLflow Tracking component is an API and UI for **logging parameters**, **code versions**, **metrics**, and output files when running your machine learning code and for later visualizing the results. MLflow Tracking lets you log and query experiments using Python, REST, R API, and Java API APIs."
      ]
    },
    {
      "cell_type": "code",
      "metadata": {
        "id": "r6edBHs9nvsv",
        "colab_type": "code",
        "colab": {}
      },
      "source": [
        "import os\n",
        "from mlflow import log_metric, log_param, log_artifact\n",
        "\n",
        "if __name__ == \"__main__\":\n",
        "    # Log a parameter (key-value pair)\n",
        "    log_param(\"param1\", 5)\n",
        "\n",
        "    # Log a metric; metrics can be updated throughout the run\n",
        "    log_metric(\"foo\", 1)\n",
        "    log_metric(\"foo\", 2)\n",
        "    log_metric(\"foo\", 3)\n",
        "\n",
        "    # Log an artifact (output file)\n",
        "    with open(\"output.txt\", \"w\") as f:\n",
        "        f.write(\"Hello world!\")\n",
        "    log_artifact(\"output.txt\")\n",
        "\n"
      ],
      "execution_count": 0,
      "outputs": []
    },
    {
      "cell_type": "markdown",
      "metadata": {
        "id": "SHxIFC1UrHTA",
        "colab_type": "text"
      },
      "source": [
        "OR "
      ]
    },
    {
      "cell_type": "code",
      "metadata": {
        "id": "ZKASTlBxrId8",
        "colab_type": "code",
        "colab": {}
      },
      "source": [
        "import mlflow\n",
        "\n",
        "# Log parameters (key-value pairs)\n",
        "mlflow.log_param(\"num_dimensions\", 8)\n",
        "mlflow.log_param(\"regularization\", 0.1)\n",
        "\n",
        "# Log a metric; metrics can be updated throughout the run\n",
        "mlflow.log_metric(\"accuracy\", 0.1)\n",
        "...\n",
        "mlflow.log_metric(\"accuracy\", 0.45)\n",
        "\n",
        "# Log artifacts (output files)\n",
        "mlflow.log_artifact(\"roc.png\")\n",
        "mlflow.log_artifact(\"model.pkl\")"
      ],
      "execution_count": 0,
      "outputs": []
    },
    {
      "cell_type": "markdown",
      "metadata": {
        "id": "1sJiHGVyrMDD",
        "colab_type": "text"
      },
      "source": [
        "Viewing the Tracking UI"
      ]
    },
    {
      "cell_type": "code",
      "metadata": {
        "id": "3SodrKcvrO6X",
        "colab_type": "code",
        "colab": {}
      },
      "source": [
        "mlflow ui"
      ],
      "execution_count": 0,
      "outputs": []
    },
    {
      "cell_type": "markdown",
      "metadata": {
        "id": "CkPb-XHsrSxA",
        "colab_type": "text"
      },
      "source": [
        "## MLflow Projects"
      ]
    },
    {
      "cell_type": "markdown",
      "metadata": {
        "id": "kufxl6TZ3GNy",
        "colab_type": "text"
      },
      "source": [
        "* complete auta project structute jasle dependencies afai run garyara machine learning model run garyara sidai result denxa."
      ]
    },
    {
      "cell_type": "markdown",
      "metadata": {
        "id": "iWF13trdsTDy",
        "colab_type": "text"
      },
      "source": [
        "* MLflow allows you to package code and its dependencies as a project that can be run in a reproducible fashion on other data. Each project includes its code and a MLproject file that defines its dependencies (for example, Python environment) as well as what commands can be run into the project and what arguments they take."
      ]
    },
    {
      "cell_type": "markdown",
      "metadata": {
        "id": "bZ7RAk1cscuV",
        "colab_type": "text"
      },
      "source": [
        "* You can easily run existing projects with the mlflow run command, which runs a project from either a local directory or a GitHub URI:"
      ]
    },
    {
      "cell_type": "markdown",
      "metadata": {
        "id": "ferRiP98sihl",
        "colab_type": "text"
      },
      "source": [
        "Note:: By default mlflow run installs all dependencies using conda. To run a project without using conda, you can provide the --no-conda option to mlflow run. In this case, you must ensure that the necessary dependencies are already installed in your Python environment."
      ]
    },
    {
      "cell_type": "code",
      "metadata": {
        "id": "KutstKmIrkdR",
        "colab_type": "code",
        "colab": {}
      },
      "source": [
        ""
      ],
      "execution_count": 0,
      "outputs": []
    }
  ]
}
